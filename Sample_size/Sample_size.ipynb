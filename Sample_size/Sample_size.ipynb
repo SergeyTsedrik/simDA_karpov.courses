{
 "cells": [
  {
   "cell_type": "markdown",
   "id": "a0375cc4-2779-4be9-80e7-b2860e817d5e",
   "metadata": {},
   "source": [
    "# Расчёт размера выборки"
   ]
  },
  {
   "cell_type": "code",
   "execution_count": 1,
   "id": "e063a2f0-5e19-4a61-985a-6dc1145d9db6",
   "metadata": {},
   "outputs": [],
   "source": [
    "import pandahouse as ph\n",
    "import pandas as pd\n",
    "from tqdm import tqdm\n",
    "import seaborn as sns\n",
    "import numpy as np\n",
    "from scipy.stats import ttest_ind\n",
    "import matplotlib.pyplot as plt\n",
    "\n",
    "\n",
    "#  создаём генератор псевдослучайных чисел\n",
    "rng = np.random.default_rng()"
   ]
  },
  {
   "cell_type": "code",
   "execution_count": 2,
   "id": "4f106487-fd5e-43cd-a170-f3c79eb1a8f6",
   "metadata": {},
   "outputs": [],
   "source": [
    "#  коннект к базе данных\n",
    "connection = {\n",
    "    'host': 'https://clickhouse.lab.karpov.courses',\n",
    "    'password': 'dpo_python_2020',\n",
    "    'user': 'student',\n",
    "    'database': 'simulator'\n",
    "}"
   ]
  },
  {
   "cell_type": "markdown",
   "id": "83dd103d-7ca4-4617-9a95-a0840ba37d76",
   "metadata": {},
   "source": [
    "Для начала вытащим данные по просмотрам и CTR за период АА-теста и подготовим их нужным образом."
   ]
  },
  {
   "cell_type": "code",
   "execution_count": 3,
   "id": "92f6f02c-9357-4dee-b34b-32734178d2a0",
   "metadata": {},
   "outputs": [
    {
     "data": {
      "text/html": [
       "<div>\n",
       "<style scoped>\n",
       "    .dataframe tbody tr th:only-of-type {\n",
       "        vertical-align: middle;\n",
       "    }\n",
       "\n",
       "    .dataframe tbody tr th {\n",
       "        vertical-align: top;\n",
       "    }\n",
       "\n",
       "    .dataframe thead th {\n",
       "        text-align: right;\n",
       "    }\n",
       "</style>\n",
       "<table border=\"1\" class=\"dataframe\">\n",
       "  <thead>\n",
       "    <tr style=\"text-align: right;\">\n",
       "      <th></th>\n",
       "      <th>views</th>\n",
       "      <th>users</th>\n",
       "      <th>p</th>\n",
       "    </tr>\n",
       "  </thead>\n",
       "  <tbody>\n",
       "    <tr>\n",
       "      <th>0</th>\n",
       "      <td>1</td>\n",
       "      <td>4</td>\n",
       "      <td>0.000095</td>\n",
       "    </tr>\n",
       "    <tr>\n",
       "      <th>1</th>\n",
       "      <td>2</td>\n",
       "      <td>1</td>\n",
       "      <td>0.000024</td>\n",
       "    </tr>\n",
       "    <tr>\n",
       "      <th>2</th>\n",
       "      <td>3</td>\n",
       "      <td>4</td>\n",
       "      <td>0.000095</td>\n",
       "    </tr>\n",
       "    <tr>\n",
       "      <th>3</th>\n",
       "      <td>4</td>\n",
       "      <td>5</td>\n",
       "      <td>0.000119</td>\n",
       "    </tr>\n",
       "    <tr>\n",
       "      <th>4</th>\n",
       "      <td>5</td>\n",
       "      <td>18</td>\n",
       "      <td>0.000429</td>\n",
       "    </tr>\n",
       "  </tbody>\n",
       "</table>\n",
       "</div>"
      ],
      "text/plain": [
       "   views  users         p\n",
       "0      1      4  0.000095\n",
       "1      2      1  0.000024\n",
       "2      3      4  0.000095\n",
       "3      4      5  0.000119\n",
       "4      5     18  0.000429"
      ]
     },
     "execution_count": 3,
     "metadata": {},
     "output_type": "execute_result"
    }
   ],
   "source": [
    "#  эмпирическое распределение просмотров\n",
    "\n",
    "q = '''\n",
    "SELECT views, count() users\n",
    "FROM\n",
    "(\n",
    "    SELECT user_id, sum(action = 'view') views\n",
    "    FROM simulator_20241120.feed_actions\n",
    "    WHERE toDate(time) BETWEEN '2024-10-18' and '2024-10-24'\n",
    "    GROUP BY user_id\n",
    ")\n",
    "GROUP BY views\n",
    "ORDER BY views\n",
    "'''\n",
    "\n",
    "\n",
    "views_distribution = ph.read_clickhouse(q, connection=connection)\n",
    "views_distribution['p'] = views_distribution['users']/views_distribution.users.sum()\n",
    "views_distribution.head()"
   ]
  },
  {
   "cell_type": "code",
   "execution_count": 4,
   "id": "41a38312-6411-44c7-a6f0-eb119110d2cb",
   "metadata": {},
   "outputs": [
    {
     "data": {
      "text/html": [
       "<div>\n",
       "<style scoped>\n",
       "    .dataframe tbody tr th:only-of-type {\n",
       "        vertical-align: middle;\n",
       "    }\n",
       "\n",
       "    .dataframe tbody tr th {\n",
       "        vertical-align: top;\n",
       "    }\n",
       "\n",
       "    .dataframe thead th {\n",
       "        text-align: right;\n",
       "    }\n",
       "</style>\n",
       "<table border=\"1\" class=\"dataframe\">\n",
       "  <thead>\n",
       "    <tr style=\"text-align: right;\">\n",
       "      <th></th>\n",
       "      <th>ctr</th>\n",
       "      <th>users</th>\n",
       "      <th>p</th>\n",
       "    </tr>\n",
       "  </thead>\n",
       "  <tbody>\n",
       "    <tr>\n",
       "      <th>0</th>\n",
       "      <td>0.00</td>\n",
       "      <td>1443</td>\n",
       "      <td>0.016952</td>\n",
       "    </tr>\n",
       "    <tr>\n",
       "      <th>1</th>\n",
       "      <td>0.65</td>\n",
       "      <td>4</td>\n",
       "      <td>0.000047</td>\n",
       "    </tr>\n",
       "    <tr>\n",
       "      <th>2</th>\n",
       "      <td>0.71</td>\n",
       "      <td>5</td>\n",
       "      <td>0.000059</td>\n",
       "    </tr>\n",
       "    <tr>\n",
       "      <th>3</th>\n",
       "      <td>0.49</td>\n",
       "      <td>4</td>\n",
       "      <td>0.000047</td>\n",
       "    </tr>\n",
       "    <tr>\n",
       "      <th>4</th>\n",
       "      <td>0.54</td>\n",
       "      <td>72</td>\n",
       "      <td>0.000846</td>\n",
       "    </tr>\n",
       "  </tbody>\n",
       "</table>\n",
       "</div>"
      ],
      "text/plain": [
       "    ctr  users         p\n",
       "0  0.00   1443  0.016952\n",
       "1  0.65      4  0.000047\n",
       "2  0.71      5  0.000059\n",
       "3  0.49      4  0.000047\n",
       "4  0.54     72  0.000846"
      ]
     },
     "execution_count": 4,
     "metadata": {},
     "output_type": "execute_result"
    }
   ],
   "source": [
    "#  эмпирическое распределение CTR \n",
    "q = \"\"\"\n",
    "SELECT floor(ctr, 2) as ctr, \n",
    "    count() as users\n",
    "FROM \n",
    "(\n",
    "    SELECT toDate(time) as dt, \n",
    "        user_id,\n",
    "        sum(action = 'like')/sum(action = 'view') as ctr\n",
    "    FROM simulator_20241120.feed_actions\n",
    "    WHERE toDate(time) BETWEEN '2024-10-18' and '2024-10-24'\n",
    "    GROUP BY dt, user_id\n",
    ")\n",
    "GROUP BY ctr\n",
    "\"\"\"\n",
    "\n",
    "ctr_distribution = ph.read_clickhouse(q, connection=connection)\n",
    "ctr_distribution['p'] = ctr_distribution['users']/ctr_distribution.users.sum()\n",
    "ctr_distribution.head()"
   ]
  },
  {
   "cell_type": "code",
   "execution_count": 5,
   "id": "eb6a1f15-2f6b-444c-bac8-76535a606114",
   "metadata": {},
   "outputs": [
    {
     "name": "stdout",
     "output_type": "stream",
     "text": [
      "Всего при АА тесте было 41997 пользователей.\n",
      "При равной разбивке в группу попадет 20998 пользователей\n"
     ]
    }
   ],
   "source": [
    "#  сколько пользователей было в АА-тесте\n",
    "q = \"\"\"\n",
    "SELECT uniqExact(user_id)\n",
    "FROM simulator_20241120.feed_actions\n",
    "WHERE toDate(time) between '2024-10-18' and '2024-10-24'\n",
    "\n",
    "\"\"\"\n",
    "\n",
    "n_sample = ph.read_clickhouse(q, connection=connection)\n",
    "n = int(n_sample.values[0,0])\n",
    "print(f'Всего при АА тесте было {n} пользователей.\\n'\n",
    "      f'При равной разбивке в группу попадет {int(n/2)} пользователей')"
   ]
  },
  {
   "cell_type": "markdown",
   "id": "82b13b16-f274-4b49-98c6-572023f7760d",
   "metadata": {},
   "source": [
    "## Построим распределения которые мы сгенерировали"
   ]
  },
  {
   "cell_type": "code",
   "execution_count": 6,
   "id": "faf2bc4a-edcf-4697-8fdd-93d18e70746f",
   "metadata": {},
   "outputs": [
    {
     "data": {
      "text/plain": [
       "<Axes: ylabel='Count'>"
      ]
     },
     "execution_count": 6,
     "metadata": {},
     "output_type": "execute_result"
    },
    {
     "data": {
      "image/png": "[encoded data removed]",
      "text/plain": [
       "<Figure size 864x432 with 1 Axes>"
      ]
     },
     "metadata": {
      "needs_background": "light"
     },
     "output_type": "display_data"
    }
   ],
   "source": [
    "#  построим расределения по просмотрам\n",
    "sim_views = rng.choice(a=views_distribution.views, size=20998, replace=True, p=views_distribution.p)\n",
    "plt.figure(figsize=(12, 6))\n",
    "sns.histplot(sim_views)"
   ]
  },
  {
   "cell_type": "markdown",
   "id": "0ddf8eb3-1022-4154-9483-5867b3fff2bd",
   "metadata": {},
   "source": [
    "Видна явная ассиметрия. "
   ]
  },
  {
   "cell_type": "code",
   "execution_count": 7,
   "id": "6dc7d926-fe0b-42d9-a040-aae7457d5f96",
   "metadata": {},
   "outputs": [
    {
     "data": {
      "text/plain": [
       "<Axes: ylabel='Count'>"
      ]
     },
     "execution_count": 7,
     "metadata": {},
     "output_type": "execute_result"
    },
    {
     "data": {
      "image/png": "[encoded data removed]",
      "text/plain": [
       "<Figure size 864x432 with 1 Axes>"
      ]
     },
     "metadata": {
      "needs_background": "light"
     },
     "output_type": "display_data"
    }
   ],
   "source": [
    "sim_ctr = rng.choice(a=ctr_distribution.ctr, size = 20998, replace=True, p=ctr_distribution.p)\n",
    "plt.figure(figsize=(12, 6))\n",
    "sns.histplot(sim_ctr)"
   ]
  },
  {
   "cell_type": "markdown",
   "id": "3853e32b-a53f-4808-8371-c6151428604a",
   "metadata": {},
   "source": [
    "CTR выглядят разреженными, чего стоило ожидать - ведь мы фактически округлили непрерывную величину и сэмплировали эти округлённые значения, а любые промежуточные значения генерироваться не будут."
   ]
  },
  {
   "cell_type": "code",
   "execution_count": 8,
   "id": "e0623476-d366-4b3f-8906-e2850014fb42",
   "metadata": {},
   "outputs": [
    {
     "data": {
      "text/plain": [
       "<Axes: ylabel='Count'>"
      ]
     },
     "execution_count": 8,
     "metadata": {},
     "output_type": "execute_result"
    },
    {
     "data": {
      "image/png": "[encoded data removed]",
      "text/plain": [
       "<Figure size 864x432 with 1 Axes>"
      ]
     },
     "metadata": {
      "needs_background": "light"
     },
     "output_type": "display_data"
    }
   ],
   "source": [
    "sim_clicks = rng.binomial(n=sim_views.astype(\"int64\"), p=sim_ctr)\n",
    "plt.figure(figsize=(12, 6))\n",
    "sns.histplot(sim_clicks)"
   ]
  },
  {
   "cell_type": "markdown",
   "id": "8d3307cb-cb4e-4aed-8612-42e847bed059",
   "metadata": {},
   "source": [
    "График лайков так же получился ассиметричным"
   ]
  },
  {
   "cell_type": "markdown",
   "id": "2d9a94b6-9bc7-4a32-b754-badddd9c5e64",
   "metadata": {},
   "source": [
    "Прежде чем мы будем симулировать АБ-тестирование и считать мощности, давайте попробуем сделать искусственный АА-тест. Убедимся, что доля ложноположительных результатов (False Positive Rate, FPR) примерно равно значению альфа (0.05)."
   ]
  },
  {
   "cell_type": "code",
   "execution_count": 9,
   "id": "410ff748-f09d-47ab-85a9-82ea7b472b90",
   "metadata": {},
   "outputs": [],
   "source": [
    "#функция для расчёта FPR\n",
    "\n",
    "def fpr_calc(sample_size, views_df, ctr_df, nsim=1000):\n",
    "    \"\"\"\n",
    "    Считает FPR для t-теста при заданных параметрах распределения\n",
    "    :param sample_size: размер выборок\n",
    "    :param views_df: датафрейм со значениями просмотров и их вероятностями\n",
    "    :param ctr_df: датафрейм со значениями прользовательских CTR и их вероятностями\n",
    "    :param nsim: количество симуляций (по умолчанию 1000)\n",
    "    :return: значение мощности от 0 до 1\n",
    "    \"\"\"\n",
    "\n",
    "    pvalues = [] #список, куда мы будем складывать p-value\n",
    "    rng = np.random.default_rng() #генератор случайных чисел\n",
    "\n",
    "    #симуляируем и сравниваем выборки nsim раз:\n",
    "\n",
    "    for _ in tqdm(range(nsim)):\n",
    "\n",
    "        #симулируем просмотры\n",
    "        group_A_views = rng.choice(a=views_df.views, size=sample_size, replace=True, p=views_df.p).astype(\"int64\")\n",
    "        group_B_views = rng.choice(a=views_df.views, size=sample_size, replace=True, p=views_df.p).astype(\"int64\")\n",
    "\n",
    "        #симулируем CTR\n",
    "        group_A_ctr = rng.choice(a=ctr_df.ctr, size=sample_size, replace=True, p=ctr_df.p)\n",
    "        group_B_ctr = rng.choice(a=ctr_df.ctr, size=sample_size, replace=True, p=ctr_df.p)\n",
    "\n",
    "        #симулируем лайки\n",
    "        clicks_A = rng.binomial(n=group_A_views, p=group_A_ctr)\n",
    "        clicks_B = rng.binomial(n=group_B_views, p=group_B_ctr)\n",
    "\n",
    "        #сравниваем t-тестом и сохраняем p-value\n",
    "        pvalues.append(ttest_ind(clicks_A, clicks_B, equal_var=False).pvalue)\n",
    "\n",
    "    #возвращаем FPR\n",
    "    return np.mean(np.array(pvalues) < 0.05)"
   ]
  },
  {
   "cell_type": "code",
   "execution_count": 10,
   "id": "f90fabf1-a1be-42ed-b09b-c9a99f29b2ee",
   "metadata": {},
   "outputs": [
    {
     "name": "stderr",
     "output_type": "stream",
     "text": [
      "100%|██████████| 20000/20000 [04:34<00:00, 72.91it/s]\n"
     ]
    },
    {
     "data": {
      "text/plain": [
       "0.0499"
      ]
     },
     "execution_count": 10,
     "metadata": {},
     "output_type": "execute_result"
    }
   ],
   "source": [
    "fpr_calc(sample_size=20998, views_df=views_distribution, ctr_df=ctr_distribution, nsim=20000)"
   ]
  },
  {
   "cell_type": "markdown",
   "id": "6ff8f77c-1cd6-4b38-8e32-6e053763d16a",
   "metadata": {},
   "source": [
    "Результат получился близким к ожиданию"
   ]
  },
  {
   "cell_type": "markdown",
   "id": "9ab93547-c883-4cab-988f-7c1aded72d4f",
   "metadata": {},
   "source": [
    "## Задание1. Увеличение числа просмотров на 1-2 с 90%-ой вероятностью для пользователей с числом просмотров >=50\n",
    "\n",
    "Давайте первым делом посмотрим на то, как такой эффект реализуется в нашей симуляции. Начнём с самого главного.\n",
    "\n",
    "Здесь мы создаём последовательность из 1 и 2, в соотношении примерно 50/50. Фактически мы генерируем 0 и 1 с вероятностью в 50%, а потом добавляем к ним всем 1."
   ]
  },
  {
   "cell_type": "code",
   "execution_count": 11,
   "id": "21f0f4ad-564b-4b3b-81f0-e9bf61d34b70",
   "metadata": {},
   "outputs": [],
   "source": [
    "def power_calc(sample_size, views_df, ctr_df, threshold, nsim=1000):\n",
    "    \"\"\"\n",
    "    Считает мощность для t-теста при заданных параметрах распределения и эффекта\n",
    "    :param sample_size: размер выборок\n",
    "    :param views_df: датафрейм со значениями просмотров и их вероятностями\n",
    "    :param ctr_df: датафрейм со значениями прользовательских CTR и их вероятностями\n",
    "    :param threshold: порог просмотров, после которого начинает действовать алгоритм\n",
    "    :param nsim: количество симуляций (по умолчанию 1000)\n",
    "    :return: значение мощности от 0 до 1\n",
    "    \"\"\"\n",
    "\n",
    "    pvalues = [] #список, куда мы будем складывать p-value\n",
    "    rng = np.random.default_rng() #генератор случайных чисел\n",
    "\n",
    "    #симуляируем и сравниваем выборки nsim раз:\n",
    "\n",
    "    for _ in tqdm(range(nsim)):\n",
    "\n",
    "        #симулируем просмотры\n",
    "        group_A_views = rng.choice(a=views_df.views, size=sample_size, replace=True, p=views_df.p).astype(\"int64\")\n",
    "        group_B_views = rng.choice(a=views_df.views, size=sample_size, replace=True, p=views_df.p).astype(\"int64\")\n",
    "\n",
    "        #симулируем эффект в тестовой группе\n",
    "        group_B_views = group_B_views + (rng.binomial(n=1, p=0.9, size=sample_size) * (1 + rng.binomial(n=1, p=0.5, size=sample_size)) * (group_B_views >= threshold))\n",
    "        group_B_views = group_B_views.astype(\"int64\")\n",
    "\n",
    "        #симулируем CTR\n",
    "        group_A_ctr = rng.choice(a=ctr_df.ctr, size=sample_size, replace=True, p=ctr_df.p)\n",
    "        group_B_ctr = rng.choice(a=ctr_df.ctr, size=sample_size, replace=True, p=ctr_df.p)\n",
    "\n",
    "        #симулируем лайки\n",
    "        clicks_A = rng.binomial(n=group_A_views, p=group_A_ctr)\n",
    "        clicks_B = rng.binomial(n=group_B_views, p=group_B_ctr)\n",
    "\n",
    "        #сравниваем t-тестом и сохраняем p-value\n",
    "        pvalues.append(ttest_ind(clicks_A, clicks_B, equal_var=False).pvalue)\n",
    "\n",
    "    #возвращаем мощность\n",
    "    return np.mean(np.array(pvalues) < 0.05)"
   ]
  },
  {
   "cell_type": "code",
   "execution_count": 12,
   "id": "aba01a71-b720-4290-a815-3492e69cf93d",
   "metadata": {},
   "outputs": [
    {
     "name": "stderr",
     "output_type": "stream",
     "text": [
      "100%|██████████| 20000/20000 [04:50<00:00, 68.89it/s]\n"
     ]
    },
    {
     "data": {
      "text/plain": [
       "0.2558"
      ]
     },
     "execution_count": 12,
     "metadata": {},
     "output_type": "execute_result"
    }
   ],
   "source": [
    "power_calc(sample_size=20998, views_df=views_distribution, ctr_df=ctr_distribution, threshold=50, nsim=20000)"
   ]
  },
  {
   "cell_type": "markdown",
   "id": "26413774-47d2-45cf-a92c-ab17bd3b5102",
   "metadata": {},
   "source": [
    "Мощность где-то в районе 25%. Это низкое значение."
   ]
  },
  {
   "cell_type": "markdown",
   "id": "c355182d-115d-40e1-9a2a-6aa7dae11cd4",
   "metadata": {},
   "source": [
    "## 2. Увеличение числа просмотров на 1-2 с 90%-ой вероятностью для пользователей с числом просмотров >=30"
   ]
  },
  {
   "cell_type": "code",
   "execution_count": 13,
   "id": "c5e85c9a-4462-4644-a16c-ed6ee93d7cc6",
   "metadata": {},
   "outputs": [
    {
     "name": "stderr",
     "output_type": "stream",
     "text": [
      "100%|██████████| 20000/20000 [04:49<00:00, 69.00it/s]\n"
     ]
    },
    {
     "data": {
      "text/plain": [
       "0.4161"
      ]
     },
     "execution_count": 13,
     "metadata": {},
     "output_type": "execute_result"
    }
   ],
   "source": [
    "power_calc(sample_size=20998, views_df=views_distribution, ctr_df=ctr_distribution, threshold=30, nsim=20000)"
   ]
  },
  {
   "cell_type": "markdown",
   "id": "d5125d5c-800b-45b2-b992-9b566e13a3aa",
   "metadata": {},
   "source": [
    "Теперь у нас мощность где-то около 41.6% - то есть мы выиграли где-то 16% дополнительной мощности. Это всё ещё очень мало. "
   ]
  },
  {
   "cell_type": "markdown",
   "id": "26fe6107-1c40-401c-b16f-d799df210ae9",
   "metadata": {},
   "source": [
    "## 3. Увеличиваем длительность эксперимента до 2 недель"
   ]
  },
  {
   "cell_type": "code",
   "execution_count": 14,
   "id": "bccd2cac-1278-44f0-80c5-9f5dc4d6d9d3",
   "metadata": {},
   "outputs": [
    {
     "name": "stdout",
     "output_type": "stream",
     "text": [
      "Всего при тесте было 61182 пользователей.\n",
      "При равной разбивке в группу попадет 30591 пользователей\n"
     ]
    }
   ],
   "source": [
    "#  сколько пользователей было в АА-тесте и АВ-тесте\n",
    "q = \"\"\"\n",
    "SELECT uniqExact(user_id)\n",
    "FROM simulator_20241120.feed_actions\n",
    "WHERE toDate(time) between '2024-10-18' and '2024-10-31'\n",
    "\n",
    "\"\"\"\n",
    "\n",
    "n_sample = ph.read_clickhouse(q, connection=connection)\n",
    "n = int(n_sample.values[0,0])\n",
    "print(f'Всего при тесте было {n} пользователей.\\n'\n",
    "      f'При равной разбивке в группу попадет {int(n/2)} пользователей')"
   ]
  },
  {
   "cell_type": "code",
   "execution_count": 18,
   "id": "292d34bc-f670-4c31-8ed1-fd0695bed79e",
   "metadata": {},
   "outputs": [
    {
     "name": "stderr",
     "output_type": "stream",
     "text": [
      "100%|██████████| 20000/20000 [07:00<00:00, 47.52it/s]\n"
     ]
    },
    {
     "data": {
      "text/plain": [
       "0.56415"
      ]
     },
     "execution_count": 18,
     "metadata": {},
     "output_type": "execute_result"
    }
   ],
   "source": [
    "power_calc(sample_size=30591, views_df=views_distribution, ctr_df=ctr_distribution, threshold=30, nsim=20000)"
   ]
  },
  {
   "cell_type": "markdown",
   "id": "4d5a72a4-8020-446b-b3e1-0620bcf5f224",
   "metadata": {},
   "source": [
    "Мощность 56%. Все еще не хватает до 80%"
   ]
  },
  {
   "cell_type": "markdown",
   "id": "e0161d43-e272-468f-be49-6407422d4fcd",
   "metadata": {},
   "source": [
    "## 4. Считаем только пользователей с числом просмотров >=30"
   ]
  },
  {
   "cell_type": "code",
   "execution_count": 16,
   "id": "ffb4396a-670d-4418-9385-f7e790a1da48",
   "metadata": {},
   "outputs": [],
   "source": [
    "def power_calc_masked(sample_size, views_df, ctr_df, threshold, nsim=1000):\n",
    "    \"\"\"\n",
    "    Считает мощность для t-теста при заданных параметрах распределения и эффекта + отсекает пользователей ниже нужного порога\n",
    "    :param sample_size: размер выборок\n",
    "    :param views_df: датафрейм со значениями просмотров и их вероятностями\n",
    "    :param ctr_df: датафрейм со значениями прользовательских CTR и их вероятностями\n",
    "    :param threshold: порог просмотров, после которого начинает действовать алгоритм\n",
    "    :param nsim: количество симуляций (по умолчанию 1000)\n",
    "    :return: значение мощности от 0 до 1\n",
    "    \"\"\"\n",
    "\n",
    "    pvalues = [] #список, куда мы будем складывать p-value\n",
    "    rng = np.random.default_rng() #генератор случайных чисел\n",
    "\n",
    "    #симуляируем и сравниваем выборки nsim раз:\n",
    "\n",
    "    for _ in tqdm(range(nsim)):\n",
    "\n",
    "        #симулируем просмотры\n",
    "        group_A_views = rng.choice(a=views_df.views, size=sample_size, replace=True, p=views_df.p).astype(\"int64\")\n",
    "        group_B_views = rng.choice(a=views_df.views, size=sample_size, replace=True, p=views_df.p).astype(\"int64\")\n",
    "\n",
    "        #симулируем эффект в тестовой группе\n",
    "        group_B_views = group_B_views + (rng.binomial(n=1, p=0.9, size=sample_size) * (1 + rng.binomial(n=1, p=0.5, size=sample_size)) * (group_B_views >= threshold))\n",
    "        group_B_views = group_B_views.astype(\"int64\")\n",
    "\n",
    "        #маска для отсеивания лишних пользователей\n",
    "        mask_A = group_A_views>=threshold\n",
    "        mask_B = group_B_views>=threshold\n",
    "\n",
    "        #симулируем CTR\n",
    "        group_A_ctr = rng.choice(a=ctr_df.ctr, size=sample_size, replace=True, p=ctr_df.p)\n",
    "        group_B_ctr = rng.choice(a=ctr_df.ctr, size=sample_size, replace=True, p=ctr_df.p)\n",
    "\n",
    "        #симулируем лайки\n",
    "        clicks_A = rng.binomial(n=group_A_views, p=group_A_ctr)\n",
    "        clicks_B = rng.binomial(n=group_B_views, p=group_B_ctr)\n",
    "\n",
    "        #сравниваем t-тестом и сохраняем p-value\n",
    "        pvalues.append(ttest_ind(clicks_A[mask_A], clicks_B[mask_B], equal_var=False).pvalue)\n",
    "\n",
    "    #возвращаем мощность\n",
    "    return np.mean(np.array(pvalues) < 0.05)"
   ]
  },
  {
   "cell_type": "code",
   "execution_count": 17,
   "id": "cdb5c5a0-e9dd-4623-872a-2d91c9c65042",
   "metadata": {},
   "outputs": [
    {
     "name": "stderr",
     "output_type": "stream",
     "text": [
      "100%|██████████| 20000/20000 [07:09<00:00, 46.54it/s]\n"
     ]
    },
    {
     "data": {
      "text/plain": [
       "0.64935"
      ]
     },
     "execution_count": 17,
     "metadata": {},
     "output_type": "execute_result"
    }
   ],
   "source": [
    "power_calc_masked(sample_size=30591, views_df=views_distribution, ctr_df=ctr_distribution, threshold=30, nsim=20000)"
   ]
  },
  {
   "cell_type": "markdown",
   "id": "b603919d-8b8b-4c82-8a9c-1c0126e8784a",
   "metadata": {},
   "source": [
    "Мощность равна 65%. Нам так и не удалось добиться 80%. "
   ]
  },
  {
   "cell_type": "markdown",
   "id": "3a316259-8bf9-4e12-be2b-203e08aed2e7",
   "metadata": {},
   "source": [
    "**Вывод:** "
   ]
  }
 ],
 "metadata": {
  "kernelspec": {
   "display_name": "Python 3 (ipykernel)",
   "language": "python",
   "name": "python3"
  },
  "language_info": {
   "codemirror_mode": {
    "name": "ipython",
    "version": 3
   },
   "file_extension": ".py",
   "mimetype": "text/x-python",
   "name": "python",
   "nbconvert_exporter": "python",
   "pygments_lexer": "ipython3",
   "version": "3.8.10"
  }
 },
 "nbformat": 4,
 "nbformat_minor": 5
}
