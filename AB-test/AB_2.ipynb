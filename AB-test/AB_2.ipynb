{
 "cells": [
  {
   "cell_type": "markdown",
   "id": "81cf6cf5-9bd8-459b-9ca2-4aa3edd38e76",
   "metadata": {},
   "source": [
    "# А/В тесты. Задание 2"
   ]
  },
  {
   "cell_type": "markdown",
   "id": "5c1adc47-e9db-47af-8237-f45e63836d39",
   "metadata": {},
   "source": [
    "Пришло время проанализировать результаты эксперимента, который мы провели вместе с командой дата сайентистов. Эксперимент проходил с 2024-10-25 по 2024-10-31 включительно. Для эксперимента были задействованы 2 и 1 группы. \n",
    "\n",
    "В группе 2 был использован один из новых алгоритмов рекомендации постов, группа 1 использовалась в качестве контроля. \n",
    "\n",
    "Основная гипотеза заключается в том, что новый алгоритм во 2-й группе приведет к увеличению CTR. \n",
    "\n",
    "Ваша задача — проанализировать данные А/B-теста. \n",
    "\n",
    "- Выбрать метод анализа и сравнить CTR в двух группах (мы разбирали t-тест, Пуассоновский бутстреп, тест Манна-Уитни, t-тест на сглаженном ctr (α=5) а также t-тест и тест Манна-Уитни поверх бакетного преобразования).\n",
    "- Сравните данные этими тестами. А еще посмотрите на распределения глазами. Почему тесты сработали именно так? \n",
    "- Опишите потенциальную ситуацию, когда такое изменение могло произойти. Тут нет идеального ответа, подумайте.\n",
    "- Напишите рекомендацию, будем ли мы раскатывать новый алгоритм на всех новых пользователей или все-таки не стоит. При выполнении задания важно обосновать и аргументировать ваш вывод."
   ]
  },
  {
   "cell_type": "code",
   "execution_count": 1,
   "id": "8a22f7d0-77d8-4cd9-a86e-397001f86369",
   "metadata": {},
   "outputs": [],
   "source": [
    "# импортируем необходимые библиотеки\n",
    "import pandas as pd\n",
    "import pandahouse as ph\n",
    "from scipy import stats\n",
    "import seaborn as sns\n",
    "import numpy as np\n",
    "import matplotlib.pyplot as plt"
   ]
  },
  {
   "cell_type": "code",
   "execution_count": 2,
   "id": "32dae8d0-f763-4ae8-9924-81f21ac07951",
   "metadata": {},
   "outputs": [],
   "source": [
    "#параметры соединения - нужны, чтобы подключиться к нужной схеме данных\n",
    "connection = {'host': 'https://clickhouse.lab.karpov.courses',\n",
    "'database':'simulator_20241120',\n",
    "'user':'student',\n",
    "'password':'dpo_python_2020'\n",
    "}\n",
    "\n",
    "#текст запроса\n",
    "query = '''\n",
    "select exp_group,\n",
    "    user_id,\n",
    "    sum(action = 'like') as likes,\n",
    "    sum(action = 'view') as views,\n",
    "    likes / views as ctr\n",
    "from {db}.feed_actions\n",
    "WHERE toDate(time) >= '2024-10-25' and toDate(time) <= '2024-10-31'\n",
    "    and exp_group IN (2, 1)\n",
    "GROUP BY exp_group, user_id\n",
    "'''\n",
    "\n",
    "# эта функция выполнит запрос и запишет его результат в pandas DataFrame\n",
    "df = ph.read_clickhouse(query, connection=connection)"
   ]
  },
  {
   "cell_type": "code",
   "execution_count": 3,
   "id": "1ad2a2ef-53f9-48ca-8447-4a5ac981ab47",
   "metadata": {},
   "outputs": [
    {
     "data": {
      "text/html": [
       "<div>\n",
       "<style scoped>\n",
       "    .dataframe tbody tr th:only-of-type {\n",
       "        vertical-align: middle;\n",
       "    }\n",
       "\n",
       "    .dataframe tbody tr th {\n",
       "        vertical-align: top;\n",
       "    }\n",
       "\n",
       "    .dataframe thead th {\n",
       "        text-align: right;\n",
       "    }\n",
       "</style>\n",
       "<table border=\"1\" class=\"dataframe\">\n",
       "  <thead>\n",
       "    <tr style=\"text-align: right;\">\n",
       "      <th></th>\n",
       "      <th>exp_group</th>\n",
       "      <th>user_id</th>\n",
       "      <th>likes</th>\n",
       "      <th>views</th>\n",
       "      <th>ctr</th>\n",
       "    </tr>\n",
       "  </thead>\n",
       "  <tbody>\n",
       "    <tr>\n",
       "      <th>0</th>\n",
       "      <td>1</td>\n",
       "      <td>109963</td>\n",
       "      <td>3</td>\n",
       "      <td>15</td>\n",
       "      <td>0.200000</td>\n",
       "    </tr>\n",
       "    <tr>\n",
       "      <th>1</th>\n",
       "      <td>1</td>\n",
       "      <td>26117</td>\n",
       "      <td>32</td>\n",
       "      <td>141</td>\n",
       "      <td>0.226950</td>\n",
       "    </tr>\n",
       "    <tr>\n",
       "      <th>2</th>\n",
       "      <td>1</td>\n",
       "      <td>138232</td>\n",
       "      <td>18</td>\n",
       "      <td>73</td>\n",
       "      <td>0.246575</td>\n",
       "    </tr>\n",
       "    <tr>\n",
       "      <th>3</th>\n",
       "      <td>1</td>\n",
       "      <td>26295</td>\n",
       "      <td>39</td>\n",
       "      <td>141</td>\n",
       "      <td>0.276596</td>\n",
       "    </tr>\n",
       "    <tr>\n",
       "      <th>4</th>\n",
       "      <td>1</td>\n",
       "      <td>18392</td>\n",
       "      <td>7</td>\n",
       "      <td>32</td>\n",
       "      <td>0.218750</td>\n",
       "    </tr>\n",
       "    <tr>\n",
       "      <th>5</th>\n",
       "      <td>2</td>\n",
       "      <td>131473</td>\n",
       "      <td>9</td>\n",
       "      <td>108</td>\n",
       "      <td>0.083333</td>\n",
       "    </tr>\n",
       "    <tr>\n",
       "      <th>6</th>\n",
       "      <td>2</td>\n",
       "      <td>23985</td>\n",
       "      <td>7</td>\n",
       "      <td>87</td>\n",
       "      <td>0.080460</td>\n",
       "    </tr>\n",
       "    <tr>\n",
       "      <th>7</th>\n",
       "      <td>2</td>\n",
       "      <td>24523</td>\n",
       "      <td>11</td>\n",
       "      <td>101</td>\n",
       "      <td>0.108911</td>\n",
       "    </tr>\n",
       "    <tr>\n",
       "      <th>8</th>\n",
       "      <td>2</td>\n",
       "      <td>32420</td>\n",
       "      <td>13</td>\n",
       "      <td>44</td>\n",
       "      <td>0.295455</td>\n",
       "    </tr>\n",
       "    <tr>\n",
       "      <th>9</th>\n",
       "      <td>2</td>\n",
       "      <td>24239</td>\n",
       "      <td>40</td>\n",
       "      <td>90</td>\n",
       "      <td>0.444444</td>\n",
       "    </tr>\n",
       "    <tr>\n",
       "      <th>10</th>\n",
       "      <td>1</td>\n",
       "      <td>137520</td>\n",
       "      <td>5</td>\n",
       "      <td>38</td>\n",
       "      <td>0.131579</td>\n",
       "    </tr>\n",
       "    <tr>\n",
       "      <th>11</th>\n",
       "      <td>2</td>\n",
       "      <td>14680</td>\n",
       "      <td>29</td>\n",
       "      <td>91</td>\n",
       "      <td>0.318681</td>\n",
       "    </tr>\n",
       "    <tr>\n",
       "      <th>12</th>\n",
       "      <td>1</td>\n",
       "      <td>498</td>\n",
       "      <td>8</td>\n",
       "      <td>28</td>\n",
       "      <td>0.285714</td>\n",
       "    </tr>\n",
       "    <tr>\n",
       "      <th>13</th>\n",
       "      <td>1</td>\n",
       "      <td>125715</td>\n",
       "      <td>7</td>\n",
       "      <td>24</td>\n",
       "      <td>0.291667</td>\n",
       "    </tr>\n",
       "    <tr>\n",
       "      <th>14</th>\n",
       "      <td>2</td>\n",
       "      <td>6911</td>\n",
       "      <td>2</td>\n",
       "      <td>38</td>\n",
       "      <td>0.052632</td>\n",
       "    </tr>\n",
       "  </tbody>\n",
       "</table>\n",
       "</div>"
      ],
      "text/plain": [
       "    exp_group  user_id  likes  views       ctr\n",
       "0           1   109963      3     15  0.200000\n",
       "1           1    26117     32    141  0.226950\n",
       "2           1   138232     18     73  0.246575\n",
       "3           1    26295     39    141  0.276596\n",
       "4           1    18392      7     32  0.218750\n",
       "5           2   131473      9    108  0.083333\n",
       "6           2    23985      7     87  0.080460\n",
       "7           2    24523     11    101  0.108911\n",
       "8           2    32420     13     44  0.295455\n",
       "9           2    24239     40     90  0.444444\n",
       "10          1   137520      5     38  0.131579\n",
       "11          2    14680     29     91  0.318681\n",
       "12          1      498      8     28  0.285714\n",
       "13          1   125715      7     24  0.291667\n",
       "14          2     6911      2     38  0.052632"
      ]
     },
     "execution_count": 3,
     "metadata": {},
     "output_type": "execute_result"
    }
   ],
   "source": [
    "# рассмотрим полученый df\n",
    "df.head(15)"
   ]
  },
  {
   "cell_type": "code",
   "execution_count": 4,
   "id": "368092a0-e147-4315-baa6-91eff99af49e",
   "metadata": {},
   "outputs": [
    {
     "data": {
      "text/plain": [
       "exp_group\n",
       "1    10020\n",
       "2     9877\n",
       "Name: user_id, dtype: int64"
      ]
     },
     "execution_count": 4,
     "metadata": {},
     "output_type": "execute_result"
    }
   ],
   "source": [
    "# проверим размерность групп\n",
    "df.groupby('exp_group')['user_id'].nunique()"
   ]
  },
  {
   "cell_type": "markdown",
   "id": "a4854ab2-f426-4512-ac95-582df1202fe5",
   "metadata": {},
   "source": [
    "Размер групп выглядит нормальной и подходит для дальнейшего анализа"
   ]
  },
  {
   "cell_type": "code",
   "execution_count": 30,
   "id": "84e40aba-e013-4a5b-862a-db763f192a85",
   "metadata": {},
   "outputs": [
    {
     "data": {
      "image/png": "[encoded data removed]",
      "text/plain": [
       "<Figure size 1080x720 with 1 Axes>"
      ]
     },
     "metadata": {
      "needs_background": "light"
     },
     "output_type": "display_data"
    }
   ],
   "source": [
    "# построим гистограмму распределений ctr\n",
    "plt.figure(figsize=(15, 10))\n",
    "sns.histplot(data=df, x= 'ctr', hue='exp_group', palette = ['r', 'b'], bins=100, kde=False, alpha=0.7)\n",
    "plt.title('Гистограмма значений ctr')\n",
    "plt.xlabel('Значения ctr')\n",
    "plt.ylabel('Частота')\n",
    "plt.show()"
   ]
  },
  {
   "cell_type": "markdown",
   "id": "f0bca2bd-bbfd-494b-888d-559a21b70e14",
   "metadata": {},
   "source": [
    "## Проведем t-тест"
   ]
  },
  {
   "cell_type": "markdown",
   "id": "9081a4d7-101b-4f05-b8cb-7223c6128f3d",
   "metadata": {},
   "source": [
    "- Нулевая гипотеза (H₀) в t-тесте: средние значения двух групп одинаковы.   \n",
    "- Альтернативная гипотеза (H₁): средние значения двух групп различаются."
   ]
  },
  {
   "cell_type": "code",
   "execution_count": 6,
   "id": "6afbdec6-6909-49cb-b30b-054dc90e4e4a",
   "metadata": {
    "tags": []
   },
   "outputs": [
    {
     "name": "stdout",
     "output_type": "stream",
     "text": [
      "Среднее первой выборки 0.21677\n",
      "Среднее второй выборки 0.2161\n",
      "t-статистика = 0.4051491913112757\n",
      "p-значение = 0.685373331140751\n",
      "Не получилось отвергнуть нулевую гипотезу\n"
     ]
    }
   ],
   "source": [
    "results = stats.ttest_ind(df[df.exp_group == 1].ctr,\n",
    "                df[df.exp_group == 2].ctr,\n",
    "                equal_var=False)\n",
    "alpha = 0.05\n",
    "\n",
    "print('Среднее первой выборки', np.mean(df[df.exp_group == 1].ctr).round(5))\n",
    "print('Среднее второй выборки', np.mean(df[df.exp_group == 2].ctr).round(5))\n",
    "\n",
    "print('t-статистика =', results.statistic)\n",
    "print('p-значение =', results.pvalue)\n",
    "\n",
    "if results.pvalue < alpha:\n",
    "    print('Отвергаем нулевую гипотезу')\n",
    "else:\n",
    "    print('Не получилось отвергнуть нулевую гипотезу') "
   ]
  },
  {
   "cell_type": "markdown",
   "id": "75f828dd-ba01-4cd7-986e-317e1018942e",
   "metadata": {},
   "source": [
    "Так как p-value = 0.685 значительно больше стандартного уровня значимости (например, α = 0.05), это означает, что нет достаточных доказательств, чтобы утверждать, что средние значения двух групп различаются.\n"
   ]
  },
  {
   "cell_type": "code",
   "execution_count": 7,
   "id": "b4eb8a6d-4251-41cb-84ea-578e61626725",
   "metadata": {},
   "outputs": [
    {
     "name": "stdout",
     "output_type": "stream",
     "text": [
      "Дисперсия первой выборки 0.00688\n",
      "Дисперсия второй выборки 0.02041\n"
     ]
    }
   ],
   "source": [
    "print('Дисперсия первой выборки', np.var(df[df.exp_group == 1].ctr).round(5))\n",
    "print('Дисперсия второй выборки', np.var(df[df.exp_group == 2].ctr).round(5))"
   ]
  },
  {
   "cell_type": "markdown",
   "id": "eef7856d-71b8-45c1-8dc9-19bfd822f1e7",
   "metadata": {},
   "source": [
    "**Вывод:** t-тест не выявил статистически значимых отличий между группами, однако визуальный анализ данных показывает явные различия. Это может свидетельствовать о том, что использование t-теста в данном случае не является корректным. Основные причины заключаются в том, что распределение данных демонстрирует значительные различия в дисперсиях между группами, а также не является одномодальным. Кроме того, для второй группы данные не соответствуют критериям нормальности, что делает результаты t-теста ненадежными. В таких ситуациях целесообразно рассмотреть альтернативные методы анализа, такие как непараметрические тесты (например, тест Манна-Уитни)"
   ]
  },
  {
   "cell_type": "markdown",
   "id": "0c018d6a-f185-4c47-8026-01be710de055",
   "metadata": {},
   "source": [
    "## Тест Манна-Уитни"
   ]
  },
  {
   "cell_type": "markdown",
   "id": "893c3538-88c8-4f25-acbd-43460a9ea6fd",
   "metadata": {},
   "source": [
    "- Нулевая гипотеза (H₀) в тесте Манна-Уитни утверждает, что распределения в двух группах идентичны \n",
    "- Альтернативная гипотеза (H₁) предполагает, что распределения в двух группах различаются"
   ]
  },
  {
   "cell_type": "code",
   "execution_count": 8,
   "id": "1b8f8fbf-8804-4ba9-9158-aedd933dcb73",
   "metadata": {},
   "outputs": [
    {
     "name": "stdout",
     "output_type": "stream",
     "text": [
      "Среднее первой выборки 0.21677\n",
      "Среднее второй выборки 0.2161\n",
      "t-статистика = 55189913.0\n",
      "p-значение = 4.632205841806026e-45\n",
      "Отвергаем нулевую гипотезу\n"
     ]
    }
   ],
   "source": [
    "results = stats.mannwhitneyu(df[df.exp_group == 1].ctr,\n",
    "                df[df.exp_group == 2].ctr,\n",
    "                alternative = 'two-sided')\n",
    "alpha = 0.05\n",
    "\n",
    "print('Среднее первой выборки', np.mean(df[df.exp_group == 1].ctr).round(5))\n",
    "print('Среднее второй выборки', np.mean(df[df.exp_group == 2].ctr).round(5))\n",
    "\n",
    "print('t-статистика =', results.statistic)\n",
    "print('p-значение =', results.pvalue)\n",
    "\n",
    "if results.pvalue < alpha:\n",
    "    print('Отвергаем нулевую гипотезу')\n",
    "else:\n",
    "    print('Не получилось отвергнуть нулевую гипотезу') "
   ]
  },
  {
   "cell_type": "markdown",
   "id": "02089c25-3fb5-4b61-b666-b9ecbfded707",
   "metadata": {},
   "source": [
    "В данном случае p-value = 4.63e-45 намного меньше 0.05, что дает нам основание отвергнуть нулевую гипотезу и заключить, что между группами существует статистически значимое различие."
   ]
  },
  {
   "cell_type": "markdown",
   "id": "27f3ea54-8ebc-45c3-a91d-99c800e3bf32",
   "metadata": {
    "tags": []
   },
   "source": [
    "**Вывод:** Применение непараметрического теста Манна-Уитни является более оправданным. Этот тест не делает предположений о распределении данных, что делает его подходящим для анализа нашей метрики. Он устойчив к выбросам и асимметрии. Кроме того, тест Манна-Уитни особенно удобен в случаях, когда имеется большое количество уникальных значений, что характерно для нашего CTR."
   ]
  },
  {
   "cell_type": "markdown",
   "id": "2569e98c-1b05-4fff-b290-028971a9ee4d",
   "metadata": {},
   "source": [
    "## Сглаженный CTR"
   ]
  },
  {
   "cell_type": "markdown",
   "id": "440cac2f-b75b-4d51-bd23-32efdb2b94ab",
   "metadata": {},
   "source": [
    "Проблема t-теста на пользовательском CTR в том, что у нас есть пользователи с небольшим количеством просмотров, а их CTR сильно зашумлен. Мы почти ничего не знаем о CTR пользователей, у которых всего 3 просмотра, независимо от количества их кликов. Когда у пользователя есть 20 просмотров, мы можем сделать приемлемую оценку CTR этого пользователя. А если у пользователя 200 просмотров, мы можем плюс/минус точно оценить его CTR."
   ]
  },
  {
   "cell_type": "code",
   "execution_count": 9,
   "id": "2cb6cd01-b963-412a-8cc4-f1b2e6d8a1be",
   "metadata": {},
   "outputs": [],
   "source": [
    "# функция для расчета сглаженного ctr\n",
    "def get_smothed_ctr(user_likes, user_views, global_ctr, alpha):\n",
    "    smothed_ctr = (user_likes + alpha * global_ctr) / (user_views + alpha)\n",
    "    return smothed_ctr"
   ]
  },
  {
   "cell_type": "code",
   "execution_count": 10,
   "id": "d83cc75f-bbce-4e98-a2d5-809202db1b50",
   "metadata": {},
   "outputs": [],
   "source": [
    "# расчитаем общий ctr для первой группы пользователей\n",
    "global_ctr_1 = df[df.exp_group == 1].likes.sum()/df[df.exp_group == 1].views.sum()"
   ]
  },
  {
   "cell_type": "code",
   "execution_count": 11,
   "id": "850bd857-12b8-4cb4-af48-939faaadcfd7",
   "metadata": {},
   "outputs": [],
   "source": [
    "group1 = df[df.exp_group == 1].copy()\n",
    "group1['smothed_ctr'] = df.apply(\n",
    "    lambda x: get_smothed_ctr(x['likes'], x['views'], global_ctr_1, 5), axis=1)"
   ]
  },
  {
   "cell_type": "code",
   "execution_count": 12,
   "id": "d3230c66-8a38-44d3-a55c-2e194b2f0132",
   "metadata": {},
   "outputs": [
    {
     "data": {
      "image/png": "[encoded data removed]",
      "text/plain": [
       "<Figure size 1440x576 with 2 Axes>"
      ]
     },
     "metadata": {
      "needs_background": "light"
     },
     "output_type": "display_data"
    }
   ],
   "source": [
    "# построим два графика с обычным распределением и со сглаженным\n",
    "fig, axs = plt.subplots(1, 2, figsize=(20, 8))\n",
    "fig.suptitle('Гистограмма распределения CTR для первой группы пользователей', fontsize=16)\n",
    "\n",
    "# построим первый график c обычным ctr\n",
    "sns.histplot(group1.ctr, ax=axs[0], kde = False)\n",
    "axs[0].set_title('Гистограмма CTR')\n",
    "axs[0].set_title('Гистограмма CTR')\n",
    "axs[0].set_xlabel('CTR')\n",
    "axs[0].set_ylabel('Количество')\n",
    "\n",
    "# построим график для сглаженного ctr\n",
    "sns.histplot(group1.smothed_ctr,  ax=axs[1], kde = False)\n",
    "axs[1].set_title('Гистограмма сглаженного CTR')\n",
    "axs[1].set_xlabel('Сглаженный CTR')\n",
    "axs[1].set_ylabel('Количество')\n",
    "\n",
    "plt.tight_layout() \n",
    "plt.show()"
   ]
  },
  {
   "cell_type": "markdown",
   "id": "79f44153-a313-4dfb-a612-d13850e2470f",
   "metadata": {},
   "source": [
    "Теперь сделаем тоже самое для пользователей второй группы"
   ]
  },
  {
   "cell_type": "code",
   "execution_count": 13,
   "id": "c3215c61-0abf-49f5-9071-bdfeb2ee2a73",
   "metadata": {},
   "outputs": [],
   "source": [
    "# расчитаем общий ctr для второй группы пользователей\n",
    "global_ctr_2 = df[df.exp_group == 2].likes.sum()/df[df.exp_group == 2].views.sum()"
   ]
  },
  {
   "cell_type": "code",
   "execution_count": 14,
   "id": "b74c5255-e808-43e2-8116-a67157642b23",
   "metadata": {},
   "outputs": [],
   "source": [
    "group2 = df[df.exp_group == 2].copy()\n",
    "group2['smothed_ctr'] = df.apply(\n",
    "    lambda x: get_smothed_ctr(x['likes'], x['views'], global_ctr_1, 5), axis=1)"
   ]
  },
  {
   "cell_type": "code",
   "execution_count": 15,
   "id": "991b1dff-2e24-4cb5-af34-8c1fadf3fa90",
   "metadata": {},
   "outputs": [
    {
     "data": {
      "text/html": [
       "<div>\n",
       "<style scoped>\n",
       "    .dataframe tbody tr th:only-of-type {\n",
       "        vertical-align: middle;\n",
       "    }\n",
       "\n",
       "    .dataframe tbody tr th {\n",
       "        vertical-align: top;\n",
       "    }\n",
       "\n",
       "    .dataframe thead th {\n",
       "        text-align: right;\n",
       "    }\n",
       "</style>\n",
       "<table border=\"1\" class=\"dataframe\">\n",
       "  <thead>\n",
       "    <tr style=\"text-align: right;\">\n",
       "      <th></th>\n",
       "      <th>exp_group</th>\n",
       "      <th>user_id</th>\n",
       "      <th>likes</th>\n",
       "      <th>views</th>\n",
       "      <th>ctr</th>\n",
       "      <th>smothed_ctr</th>\n",
       "    </tr>\n",
       "  </thead>\n",
       "  <tbody>\n",
       "    <tr>\n",
       "      <th>5</th>\n",
       "      <td>2</td>\n",
       "      <td>131473</td>\n",
       "      <td>9</td>\n",
       "      <td>108</td>\n",
       "      <td>0.083333</td>\n",
       "      <td>0.088921</td>\n",
       "    </tr>\n",
       "    <tr>\n",
       "      <th>6</th>\n",
       "      <td>2</td>\n",
       "      <td>23985</td>\n",
       "      <td>7</td>\n",
       "      <td>87</td>\n",
       "      <td>0.080460</td>\n",
       "      <td>0.087478</td>\n",
       "    </tr>\n",
       "    <tr>\n",
       "      <th>7</th>\n",
       "      <td>2</td>\n",
       "      <td>24523</td>\n",
       "      <td>11</td>\n",
       "      <td>101</td>\n",
       "      <td>0.108911</td>\n",
       "      <td>0.113661</td>\n",
       "    </tr>\n",
       "    <tr>\n",
       "      <th>8</th>\n",
       "      <td>2</td>\n",
       "      <td>32420</td>\n",
       "      <td>13</td>\n",
       "      <td>44</td>\n",
       "      <td>0.295455</td>\n",
       "      <td>0.286694</td>\n",
       "    </tr>\n",
       "    <tr>\n",
       "      <th>9</th>\n",
       "      <td>2</td>\n",
       "      <td>24239</td>\n",
       "      <td>40</td>\n",
       "      <td>90</td>\n",
       "      <td>0.444444</td>\n",
       "      <td>0.432084</td>\n",
       "    </tr>\n",
       "    <tr>\n",
       "      <th>...</th>\n",
       "      <td>...</td>\n",
       "      <td>...</td>\n",
       "      <td>...</td>\n",
       "      <td>...</td>\n",
       "      <td>...</td>\n",
       "      <td>...</td>\n",
       "    </tr>\n",
       "    <tr>\n",
       "      <th>19889</th>\n",
       "      <td>2</td>\n",
       "      <td>16512</td>\n",
       "      <td>13</td>\n",
       "      <td>79</td>\n",
       "      <td>0.164557</td>\n",
       "      <td>0.167238</td>\n",
       "    </tr>\n",
       "    <tr>\n",
       "      <th>19891</th>\n",
       "      <td>2</td>\n",
       "      <td>17146</td>\n",
       "      <td>0</td>\n",
       "      <td>10</td>\n",
       "      <td>0.000000</td>\n",
       "      <td>0.069868</td>\n",
       "    </tr>\n",
       "    <tr>\n",
       "      <th>19894</th>\n",
       "      <td>2</td>\n",
       "      <td>25383</td>\n",
       "      <td>42</td>\n",
       "      <td>127</td>\n",
       "      <td>0.330709</td>\n",
       "      <td>0.326121</td>\n",
       "    </tr>\n",
       "    <tr>\n",
       "      <th>19895</th>\n",
       "      <td>2</td>\n",
       "      <td>139020</td>\n",
       "      <td>17</td>\n",
       "      <td>41</td>\n",
       "      <td>0.414634</td>\n",
       "      <td>0.392348</td>\n",
       "    </tr>\n",
       "    <tr>\n",
       "      <th>19896</th>\n",
       "      <td>2</td>\n",
       "      <td>17310</td>\n",
       "      <td>9</td>\n",
       "      <td>82</td>\n",
       "      <td>0.109756</td>\n",
       "      <td>0.115494</td>\n",
       "    </tr>\n",
       "  </tbody>\n",
       "</table>\n",
       "<p>9877 rows × 6 columns</p>\n",
       "</div>"
      ],
      "text/plain": [
       "       exp_group  user_id  likes  views       ctr  smothed_ctr\n",
       "5              2   131473      9    108  0.083333     0.088921\n",
       "6              2    23985      7     87  0.080460     0.087478\n",
       "7              2    24523     11    101  0.108911     0.113661\n",
       "8              2    32420     13     44  0.295455     0.286694\n",
       "9              2    24239     40     90  0.444444     0.432084\n",
       "...          ...      ...    ...    ...       ...          ...\n",
       "19889          2    16512     13     79  0.164557     0.167238\n",
       "19891          2    17146      0     10  0.000000     0.069868\n",
       "19894          2    25383     42    127  0.330709     0.326121\n",
       "19895          2   139020     17     41  0.414634     0.392348\n",
       "19896          2    17310      9     82  0.109756     0.115494\n",
       "\n",
       "[9877 rows x 6 columns]"
      ]
     },
     "execution_count": 15,
     "metadata": {},
     "output_type": "execute_result"
    }
   ],
   "source": [
    "group2"
   ]
  },
  {
   "cell_type": "code",
   "execution_count": 16,
   "id": "05665bee-c797-4e29-b644-75e61784f32a",
   "metadata": {},
   "outputs": [
    {
     "data": {
      "image/png": "[encoded data removed]",
      "text/plain": [
       "<Figure size 1440x576 with 2 Axes>"
      ]
     },
     "metadata": {
      "needs_background": "light"
     },
     "output_type": "display_data"
    }
   ],
   "source": [
    "# построим два графика с обычным распределением и со сглаженным\n",
    "fig, axs = plt.subplots(1, 2, figsize=(20, 8))\n",
    "fig.suptitle('Гистограмма распределения CTR для второй группы пользователей', fontsize=16)\n",
    "\n",
    "# построим первый график c обычным ctr\n",
    "sns.histplot(group2.ctr, ax=axs[0], bins=50, kde = False)\n",
    "axs[0].set_title('Гистограмма CTR')\n",
    "axs[0].set_xlabel('CTR')\n",
    "axs[0].set_ylabel('Количество')\n",
    "\n",
    "# построим график для сглаженного ctr\n",
    "sns.histplot(group2.smothed_ctr,  ax=axs[1], bins=50, kde = False)\n",
    "axs[1].set_title('Гистограмма сглаженного CTR')\n",
    "axs[1].set_xlabel('Сглаженный CTR')\n",
    "axs[1].set_ylabel('Количество')\n",
    "\n",
    "\n",
    "plt.tight_layout() \n",
    "plt.show()"
   ]
  },
  {
   "cell_type": "markdown",
   "id": "3eb572c0-3418-41d5-b070-08285d94df31",
   "metadata": {},
   "source": [
    "**Вывод:** \n",
    "- После применения сглаживания распределение стало менее асимметричным, хвосты стали короче.\n",
    "- Основная масса значений всё еще сосредоточена в диапазоне 0.0–0.2, однако распределение стало более равномерным.\n",
    "- Сглаживание, уменьшило влияние пользователей с очень низкими или очень высокими CTR, что делает распределение более пригодным для анализа с помощью параметрических методов (например, t-теста)."
   ]
  },
  {
   "cell_type": "markdown",
   "id": "ed1a437e-20f1-4004-94ec-cfa6e5b1f466",
   "metadata": {
    "tags": []
   },
   "source": [
    "## Проведем t-тест для сглаженных CTR"
   ]
  },
  {
   "cell_type": "markdown",
   "id": "e762c775-9206-4cf2-8e9e-c06390b95449",
   "metadata": {},
   "source": [
    "- Нулевая гипотеза (H₀) в t-тесте: средние значения двух групп одинаковы.   \n",
    "- Альтернативная гипотеза (H₁): средние значения двух групп различаются."
   ]
  },
  {
   "cell_type": "code",
   "execution_count": 18,
   "id": "76cc4836-4558-4af7-abde-d70b4ad14c11",
   "metadata": {},
   "outputs": [
    {
     "name": "stdout",
     "output_type": "stream",
     "text": [
      "Среднее первой выборки 0.21528\n",
      "Среднее второй выборки 0.21351\n",
      "t-статистика = 1.2447034376197381\n",
      "p-значение = 0.2132595139150962\n",
      "Не получилось отвергнуть нулевую гипотезу\n"
     ]
    }
   ],
   "source": [
    "results = stats.ttest_ind(group1.smothed_ctr,\n",
    "                group2.smothed_ctr,\n",
    "                equal_var=False)\n",
    "alpha = 0.05\n",
    "\n",
    "print('Среднее первой выборки', np.mean(group1.smothed_ctr).round(5))\n",
    "print('Среднее второй выборки', np.mean(group2.smothed_ctr).round(5))\n",
    "\n",
    "print('t-статистика =', results.statistic)\n",
    "print('p-значение =', results.pvalue)\n",
    "\n",
    "if results.pvalue < alpha:\n",
    "    print('Отвергаем нулевую гипотезу')\n",
    "else:\n",
    "    print('Не получилось отвергнуть нулевую гипотезу') "
   ]
  },
  {
   "cell_type": "markdown",
   "id": "d5a6dd79-1880-4245-8a14-b2be49b5e3cf",
   "metadata": {
    "tags": []
   },
   "source": [
    "**Вывод:** Несмотря на то, что значение p-value стало меньше (было p-значение = 0.6853, стало 0.2132) по сравнению с проведением t-теста без сглаживания, этого все еще недостаточно для того, чтобы отвергнуть нулевую гипотезу о равенстве значений двух групп. "
   ]
  },
  {
   "cell_type": "markdown",
   "id": "6bcb6093-baa9-408b-ab61-97aa7a89b041",
   "metadata": {},
   "source": [
    "## Пуассоновский бутстреп для подсчета разницы в CTR"
   ]
  },
  {
   "cell_type": "code",
   "execution_count": 19,
   "id": "5e7f647c-e4ca-40d5-bc5d-142dd1c6e726",
   "metadata": {},
   "outputs": [],
   "source": [
    "# функция для подсчета глобального CTR для контрольной и тестируемой группы\n",
    "def bootstrap(likes1, views1, likes2, views2, n_bootstrap=2000):\n",
    "\n",
    "    poisson_bootstraps1 = stats.poisson(1).rvs(\n",
    "        (n_bootstrap, len(likes1))).astype(np.int64)\n",
    "\n",
    "    poisson_bootstraps2 = stats.poisson(1).rvs(\n",
    "            (n_bootstrap, len(likes2))).astype(np.int64)\n",
    "    \n",
    "    globalCTR1 = (poisson_bootstraps1*likes1).sum(axis=1)/(poisson_bootstraps1*views1).sum(axis=1)\n",
    "    \n",
    "    globalCTR2 = (poisson_bootstraps2*likes2).sum(axis=1)/(poisson_bootstraps2*views2).sum(axis=1)\n",
    "\n",
    "    return globalCTR1, globalCTR2"
   ]
  },
  {
   "cell_type": "code",
   "execution_count": 20,
   "id": "50d7460f-fd57-4ec9-9846-162f67d9b71c",
   "metadata": {},
   "outputs": [],
   "source": [
    "# создадим списки из лайков и просмотров\n",
    "likes1 = df[df.exp_group == 1].likes.to_numpy()\n",
    "views1 = df[df.exp_group == 1].views.to_numpy()\n",
    "likes2 = df[df.exp_group == 2].likes.to_numpy()\n",
    "views2 = df[df.exp_group == 2].views.to_numpy()\n",
    "\n",
    "# применим функцию для рассчета глобальных ctr\n",
    "ctr1, ctr2 = bootstrap(likes1, views1, likes2, views2)"
   ]
  },
  {
   "cell_type": "code",
   "execution_count": 21,
   "id": "6700f659-14af-4e4d-ac56-641b3b3eabf7",
   "metadata": {},
   "outputs": [
    {
     "data": {
      "image/png": "[encoded data removed]",
      "text/plain": [
       "<Figure size 1080x720 with 1 Axes>"
      ]
     },
     "metadata": {
      "needs_background": "light"
     },
     "output_type": "display_data"
    }
   ],
   "source": [
    "plt.figure(figsize=(15, 10))\n",
    "\n",
    "sns.histplot(ctr1, color='green', label='CTR 1',kde=True, bins=30, alpha=0.7)\n",
    "sns.histplot(ctr2, color='blue', label = 'CTR 2', kde=True,  bins=30, alpha=0.7)\n",
    "\n",
    "plt.title('Сравнение распределений CTR 1 и CTR 2', fontsize=16)\n",
    "plt.xlabel('CTR')\n",
    "plt.ylabel('Количество')\n",
    "\n",
    "plt.legend()\n",
    "plt.show()"
   ]
  },
  {
   "cell_type": "code",
   "execution_count": 22,
   "id": "544a79e1-1e32-4500-be2b-d8ad941ea689",
   "metadata": {},
   "outputs": [
    {
     "data": {
      "image/png": "[encoded data removed]",
      "text/plain": [
       "<Figure size 1080x720 with 1 Axes>"
      ]
     },
     "metadata": {
      "needs_background": "light"
     },
     "output_type": "display_data"
    }
   ],
   "source": [
    "#Разница между глобальными CTR\n",
    "plt.figure(figsize=(15, 10))\n",
    "\n",
    "sns.histplot(ctr2 - ctr1)\n",
    "\n",
    "plt.title('Гистограмма разницы между глобальными CTR', fontsize=16)\n",
    "plt.xlabel('Глобольный CTR')\n",
    "plt.ylabel('Количество')\n",
    "\n",
    "plt.show()"
   ]
  },
  {
   "cell_type": "markdown",
   "id": "4f2da466-4fd5-48e7-bdb7-0e0d6789351b",
   "metadata": {},
   "source": [
    "**Вывод:** Гистограмма разности между группами не пересекает ноль, что указывает на значительное различие в показателях CTR между контрольной и тестируемой группами. Поскольку значения разности оказались отрицательными, это свидетельствует о том, что контрольная группа имеет более высокий CTR по сравнению с тестируемой группой. \n",
    "\n",
    "Таким образом, результаты анализа показывают, что группа 1 (контрольная) демонстрирует лучшие результаты по CTR, чем группа 2 (тестируемая). Это может указывать на то, что изменения или нововведения, внедренные в тестируемую группу, не привели к улучшению показателей, а наоборот, снизили их эффективность. "
   ]
  },
  {
   "cell_type": "markdown",
   "id": "08abf91b-d135-4091-a6c5-2f8344faffd7",
   "metadata": {},
   "source": [
    "## Бакетное преобразование"
   ]
  },
  {
   "cell_type": "code",
   "execution_count": 23,
   "id": "1a01af15-bbe9-47c6-90da-9d171419e2ca",
   "metadata": {},
   "outputs": [],
   "source": [
    "# напишем запрос в кликхаус \n",
    "q = \"\"\"\n",
    "\n",
    "SELECT exp_group, bucket,\n",
    "    sum(likes)/sum(views) as bucket_ctr,\n",
    "    quantileExact(0.9)(ctr) as ctr9\n",
    "FROM (SELECT exp_group, \n",
    "        xxHash64(user_id)%50 as bucket,\n",
    "        user_id,\n",
    "        sum(action = 'like') as likes,\n",
    "        sum(action = 'view') as views,\n",
    "        likes/views as ctr\n",
    "    FROM {db}.feed_actions \n",
    "    WHERE toDate(time) >= '2024-10-25' and toDate(time) <= '2024-10-31'\n",
    "        and exp_group in (1,2)\n",
    "    GROUP BY exp_group, bucket, user_id)\n",
    "GROUP BY exp_group, bucket\n",
    "\"\"\"\n",
    "\n",
    "backet = ph.read_clickhouse(q, connection=connection)"
   ]
  },
  {
   "cell_type": "code",
   "execution_count": 24,
   "id": "b59026dc-6059-4be2-9f56-c148b7fdb55d",
   "metadata": {},
   "outputs": [
    {
     "name": "stdout",
     "output_type": "stream",
     "text": [
      "Среднее первой выборки 0.20969\n",
      "Среднее второй выборки 0.20046\n",
      "t-статистика = 1997.0\n",
      "p-значение = 2.6576427804010095e-07\n",
      "Отвергаем нулевую гипотезу\n"
     ]
    }
   ],
   "source": [
    "#тест Манна-Уитни \n",
    "results = stats.mannwhitneyu(backet[backet.exp_group == 1].bucket_ctr,\n",
    "                backet[backet.exp_group == 2].bucket_ctr,\n",
    "                alternative = 'two-sided')\n",
    "alpha = 0.05\n",
    "\n",
    "print('Среднее первой выборки', np.mean(backet[backet.exp_group == 1].bucket_ctr).round(5))\n",
    "print('Среднее второй выборки', np.mean(backet[backet.exp_group == 2].bucket_ctr).round(5))\n",
    "\n",
    "print('t-статистика =', results.statistic)\n",
    "print('p-значение =', results.pvalue)\n",
    "\n",
    "if results.pvalue < alpha:\n",
    "    print('Отвергаем нулевую гипотезу')\n",
    "else:\n",
    "    print('Не получилось отвергнуть нулевую гипотезу') "
   ]
  },
  {
   "cell_type": "markdown",
   "id": "02cab207-1c53-4728-b4a7-a4e7251855bc",
   "metadata": {},
   "source": [
    "**Вывод:** Тест Манна-Уитни видит отличия между группами"
   ]
  },
  {
   "cell_type": "markdown",
   "id": "8d976c73-d445-4588-ba62-d35a6e81bb8b",
   "metadata": {},
   "source": [
    "Построим гистограмму распределений бакетных CTR для обоих групп, что бы взглянуть на распределение"
   ]
  },
  {
   "cell_type": "code",
   "execution_count": 25,
   "id": "c19ef124-1316-4bf3-92ea-9dc2efe7a8bf",
   "metadata": {},
   "outputs": [
    {
     "data": {
      "image/png": "[encoded data removed]",
      "text/plain": [
       "<Figure size 1440x576 with 2 Axes>"
      ]
     },
     "metadata": {
      "needs_background": "light"
     },
     "output_type": "display_data"
    }
   ],
   "source": [
    "# построим два графика с бакетным CTR, для обеих групп\n",
    "fig, axs = plt.subplots(1, 2, figsize=(20, 8))\n",
    "fig.suptitle('Гистограмма распределения бакетного преобразования CTR', fontsize=16)\n",
    "\n",
    "# построим первый график для контрольной группы\n",
    "sns.histplot(backet[backet.exp_group == 1].bucket_ctr, ax=axs[0], bins=10, kde = False)\n",
    "axs[0].set_title('Гистограмма контрольной группы')\n",
    "axs[0].set_xlabel('Бакетный CTR')\n",
    "axs[0].set_ylabel('Количество')\n",
    "\n",
    "# построим график для тестируемой группы\n",
    "sns.histplot(backet[backet.exp_group == 2].bucket_ctr,  ax=axs[1], bins=10, kde = False)\n",
    "axs[1].set_title('Гистограмма тестируемой группы')\n",
    "axs[1].set_xlabel('Бакетный CTR')\n",
    "axs[1].set_ylabel('Количество')\n",
    "\n",
    "\n",
    "plt.tight_layout() \n",
    "plt.show()"
   ]
  },
  {
   "cell_type": "markdown",
   "id": "6e160578-1a96-4b43-afef-eb5c269f11b2",
   "metadata": {},
   "source": [
    "Распределения внутри бакеттов плюс/минус похоже на нормальное. Проведем t-тест"
   ]
  },
  {
   "cell_type": "code",
   "execution_count": 26,
   "id": "c0be18d1-f728-4a2a-929f-b5ee0e49595f",
   "metadata": {},
   "outputs": [
    {
     "name": "stdout",
     "output_type": "stream",
     "text": [
      "Среднее первой выборки 0.20969\n",
      "Среднее второй выборки 0.20046\n",
      "t-статистика = 5.614819358149381\n",
      "p-значение = 4.592644937473873e-07\n",
      "Отвергаем нулевую гипотезу\n"
     ]
    }
   ],
   "source": [
    "# t-тест \n",
    "results = stats.ttest_ind(backet[backet.exp_group == 1].bucket_ctr,\n",
    "                backet[backet.exp_group == 2].bucket_ctr,\n",
    "                equal_var=False)\n",
    "alpha = 0.05\n",
    "\n",
    "print('Среднее первой выборки', np.mean(backet[backet.exp_group == 1].bucket_ctr).round(5))\n",
    "print('Среднее второй выборки', np.mean(backet[backet.exp_group == 2].bucket_ctr).round(5))\n",
    "\n",
    "print('t-статистика =', results.statistic)\n",
    "print('p-значение =', results.pvalue)\n",
    "\n",
    "if results.pvalue < alpha:\n",
    "    print('Отвергаем нулевую гипотезу')\n",
    "else:\n",
    "    print('Не получилось отвергнуть нулевую гипотезу') "
   ]
  },
  {
   "cell_type": "markdown",
   "id": "347e4dbc-643a-4f8b-9603-da2d0530a2b7",
   "metadata": {},
   "source": [
    "**Вывод:** При проведении t-теста на бакетных CTR, тест увидел отличия. "
   ]
  },
  {
   "cell_type": "markdown",
   "id": "b3d1928f-9fd8-4f46-ad02-089336f38098",
   "metadata": {
    "tags": []
   },
   "source": [
    "### Проведем тесты для 90%-го квантиля CTR"
   ]
  },
  {
   "cell_type": "code",
   "execution_count": 27,
   "id": "6773408b-2ce6-4362-aa4f-87ce59cabae2",
   "metadata": {},
   "outputs": [
    {
     "data": {
      "image/png": "[encoded data removed]",
      "text/plain": [
       "<Figure size 1440x576 with 2 Axes>"
      ]
     },
     "metadata": {
      "needs_background": "light"
     },
     "output_type": "display_data"
    }
   ],
   "source": [
    "# построим два графика с обычным распределением и со сглаженным\n",
    "fig, axs = plt.subplots(1, 2, figsize=(20, 8))\n",
    "fig.suptitle('Гистограмма распределения 90% квантиля CTR', fontsize=16)\n",
    "\n",
    "# построим первый график для контрольной группы\n",
    "sns.histplot(backet[backet.exp_group == 1].ctr9, ax=axs[0], kde = False)\n",
    "axs[0].set_title('Гистограмма контрольной группы')\n",
    "axs[0].set_xlabel('Квантиль')\n",
    "axs[0].set_ylabel('Количество')\n",
    "\n",
    "# построим график для тестируемой группы\n",
    "sns.histplot(backet[backet.exp_group == 2].ctr9,  ax=axs[1], kde = False)\n",
    "axs[1].set_title('Гистограмма тестируемой группы')\n",
    "axs[1].set_xlabel('Квантиль')\n",
    "axs[1].set_ylabel('Количество')\n",
    "\n",
    "\n",
    "plt.tight_layout() \n",
    "plt.show()"
   ]
  },
  {
   "cell_type": "markdown",
   "id": "35e01889-be9f-455f-b71e-d36a0d50d566",
   "metadata": {},
   "source": [
    "В связи с тем, что распределения данных можно с натяжкой привести к нормальному виду, а количество наблюдений ограничено, использование t-теста для анализа разницы в квантилях может быть неуместным. Вместо этого мы применили тест Манна-Уитни, который является непараметрическим методом и позволяет оценить различия между двумя независимыми группами без предположений о нормальности распределения."
   ]
  },
  {
   "cell_type": "code",
   "execution_count": 28,
   "id": "1e3947d3-2683-4af2-b39d-ae7f4c271513",
   "metadata": {},
   "outputs": [
    {
     "name": "stdout",
     "output_type": "stream",
     "text": [
      "Среднее первой выборки 0.32099\n",
      "Среднее второй выборки 0.40266\n",
      "t-статистика = 0.0\n",
      "p-значение = 6.7601631082665925e-18\n",
      "Отвергаем нулевую гипотезу\n"
     ]
    }
   ],
   "source": [
    "#тест Манна-Уитни \n",
    "results = stats.mannwhitneyu(backet[backet.exp_group == 1].ctr9,\n",
    "                backet[backet.exp_group == 2].ctr9,\n",
    "                alternative = 'two-sided')\n",
    "alpha = 0.05\n",
    "\n",
    "print('Среднее первой выборки', np.mean(backet[backet.exp_group == 1].ctr9).round(5))\n",
    "print('Среднее второй выборки', np.mean(backet[backet.exp_group == 2].ctr9).round(5))\n",
    "\n",
    "print('t-статистика =', results.statistic)\n",
    "print('p-значение =', results.pvalue)\n",
    "\n",
    "if results.pvalue < alpha:\n",
    "    print('Отвергаем нулевую гипотезу')\n",
    "else:\n",
    "    print('Не получилось отвергнуть нулевую гипотезу') "
   ]
  },
  {
   "cell_type": "markdown",
   "id": "91537987-e1f8-42f1-a771-c44008f8c93a",
   "metadata": {},
   "source": [
    "**Вывод:** Результаты теста Манна-Уитни подтверждают наличие статистически значимых отличий между 90-м квантилем в группе 1 и группе 2. Это указывает на то, что распределение данных в этих группах различается, и, следовательно, изменения, внедренные в тестируемую группу, оказали влияние на результаты. "
   ]
  },
  {
   "cell_type": "markdown",
   "id": "7e37dc1b-f632-4bd4-b123-a5e64bf652ea",
   "metadata": {},
   "source": [
    "## Общие выводы:\n",
    "1. t-тест:\n",
    "\n",
    "- Результаты t-теста не выявили статистически значимых различий между группами (p-value = 0.6853).\n",
    "- Однако распределение CTR не удовлетворяет требованиям нормальности и имеет различные дисперсии между группами. Это снижает корректность применения t-теста в данном случае.\n",
    "\n",
    "2. Тест Манна-Уитни:\n",
    "\n",
    "- Тест Манна-Уитни показал наличие статистически значимых различий между группами (p-value = 4.63e-45). Это свидетельствует о том, что распределения CTR в тестовой и контрольной группах различаются.\n",
    "- Этот тест является более подходящим для анализа, так как он не делает предположений о форме распределения данных, что важно для сильно асимметричных распределений, характерных для CTR.\n",
    "\n",
    "3. Сглаживание CTR:\n",
    "\n",
    "- После сглаживания распределение CTR стало ближе к нормальному. Это позволило повторно провести t-тест, однако статистически значимых отличий всё равно не было обнаружено.\n",
    "- Несмотря на это, сглаживание помогло устранить влияние крайних значений, что делает такие данные более интерпретируемыми.\n",
    "\n",
    "4. Пуассоновский бутстреп для подсчета разницы в CTR:\n",
    "\n",
    "- Гистограммы показывают значительное различие в распределениях CTR между группами. Распределение контрольной группы (группа 1) выглядит более концентрированным, с пиком ближе к низким значениям CTR. В тестовой группе (группа 2) наблюдается длинный \"хвост\" высоких значений.\n",
    "- При этом гистограмма разности между группами не пересекает ноль, что визуально подтверждает различия в CTR.\n",
    "- Таким образом, результаты анализа показывают, что группа 1 (контрольная) демонстрирует лучшие результаты по CTR, чем группа 2 (тестируемая). Это может указывать на то, что изменения или нововведения, внедренные в тестируемую группу, не привели к улучшению показателей, а наоборот, снизили их эффективность. \n",
    "\n",
    "5. Анализ бакетных CTR и квантильный анализ CTR:\n",
    "\n",
    "- T-тест на бакетных CTR показал статистически значимые различия между группами. Это подтверждает, что при учёте агрегированных данных (по бакетам) влияние случайных выбросов уменьшается, что позволяет выявить различия.\n",
    "- Анализ 90-го квантиля с использованием теста Манна-Уитни подтвердил наличие значимых отличий. Это указывает на то, что изменения в тестовой группе влияют на верхние значения распределения CTR."
   ]
  },
  {
   "cell_type": "markdown",
   "id": "355f9a84-9ddb-46cf-abd1-c9a8beb63d0f",
   "metadata": {},
   "source": [
    "## Опишите потенциальную ситуацию, когда такое изменение могло произойти."
   ]
  },
  {
   "cell_type": "markdown",
   "id": "85c76b66-c4cb-4fd7-b8c8-29422c4d3249",
   "metadata": {},
   "source": [
    "Анализ начального графика распределения показал, что уровень низкого CTR (около 0.1) в тестовой группе выше, чем в контрольной, что говорит о большом количестве пользователей с низкой вовлечённостью. Далее наблюдается снижение количества пользователей с CTR в диапазоне 0.1–0.2, затем рост в диапазоне 0.3–0.4 и последующее падение. Это может указывать на нестабильность работы нового алгоритма и его недостаточную релевантность для разных сегментов пользователей.\n",
    "\n",
    "Потенциальная причина: Новый алгоритм рекомендаций может быть слишком фокусирован на популярном контенте или повторяющихся рекомендациях, что приводит к \"утомлению\" пользователей и снижению их интереса. В результате пользователи перестают взаимодействовать с рекомендациями. Возможно также наличие ошибки в логике работы алгоритма (например, некорректное ранжирование или ограниченный набор рекомендуемого контента)."
   ]
  },
  {
   "cell_type": "markdown",
   "id": "6cf38762-5c01-4446-b2a8-d1353fac81da",
   "metadata": {},
   "source": [
    "## Напишите рекомендацию, будем ли мы раскатывать новый алгоритм на всех новых пользователей или все-таки не стоит. "
   ]
  },
  {
   "cell_type": "markdown",
   "id": "fa6c4b4f-4dc4-478f-9752-c04faf49da47",
   "metadata": {},
   "source": [
    "На основании полученных результатов не рекомендуется раскатывать новый алгоритм на всех пользователей в его текущем виде. Наша цель заключалась в увеличении CTR, и результаты анализа показывают, что новый алгоритм не улучшает CTR, а снижает его. \n",
    "\n",
    "Новый алгоритм может утомлять пользователей повторяющимся или нерелевантным контентом. Это может привести к дальнейшему снижению вовлечённости, а в долгосрочной перспективе — к оттоку пользователей. Кроме того, важно учитывать, что негативный опыт пользователей может оказать влияние на общую репутацию платформы и снизить доверие к предоставляемым услугам.\n",
    "\n",
    "**Рекомендация:**\n",
    "Внедрить систему оценок: Позволить пользователям оценивать рекомендации по шкале (например, от 1 до 5) или с помощью простых кнопок \"нравится/не нравится\". Это даст возможность собрать количественные данные о том, какие рекомендации воспринимаются положительно, а какие — отрицательно.\n"
   ]
  },
  {
   "cell_type": "code",
   "execution_count": null,
   "id": "4a5779f0-de56-493d-b9da-d39022b336d7",
   "metadata": {},
   "outputs": [],
   "source": []
  }
 ],
 "metadata": {
  "kernelspec": {
   "display_name": "Python 3 (ipykernel)",
   "language": "python",
   "name": "python3"
  },
  "language_info": {
   "codemirror_mode": {
    "name": "ipython",
    "version": 3
   },
   "file_extension": ".py",
   "mimetype": "text/x-python",
   "name": "python",
   "nbconvert_exporter": "python",
   "pygments_lexer": "ipython3",
   "version": "3.8.10"
  }
 },
 "nbformat": 4,
 "nbformat_minor": 5
}
